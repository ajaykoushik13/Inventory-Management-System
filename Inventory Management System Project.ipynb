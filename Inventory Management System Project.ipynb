{
  "nbformat": 4,
  "nbformat_minor": 0,
  "metadata": {
    "colab": {
      "name": "intern.ipynb",
      "provenance": [],
      "collapsed_sections": []
    },
    "kernelspec": {
      "name": "python3",
      "display_name": "Python 3"
    },
    "language_info": {
      "name": "python"
    }
  },
  "cells": [
    {
      "cell_type": "markdown",
      "metadata": {
        "id": "oApvBiRdk783"
      },
      "source": [
        "#**Skill India Python For ML/AI Internship**\n",
        "\n",
        "#Elite Techno Groups\n",
        "\n"
      ]
    },
    {
      "cell_type": "markdown",
      "metadata": {
        "id": "63vMZPeYZJqg"
      },
      "source": [
        "#**Inventory Management System Project**\n",
        "#Done By:\n",
        "\n",
        ">**AJAY KOUSHIK K N**\n",
        "\n",
        ">**BANNARI AMMAN INSTITUTE OF TECHNOLOGY**\n",
        "\n",
        "\n",
        "\n"
      ]
    },
    {
      "cell_type": "markdown",
      "metadata": {
        "id": "Nuats-87yf1p"
      },
      "source": [
        "#**AK'S Supermarket**\n",
        "\n"
      ]
    },
    {
      "cell_type": "markdown",
      "metadata": {
        "id": "Nbg5uvfVZYHI"
      },
      "source": [
        "#Creating an Inventory"
      ]
    },
    {
      "cell_type": "code",
      "metadata": {
        "id": "ibaF62t_Wi1G"
      },
      "source": [
        "inventory = { 101 : {\"name\": \"Sugar 1 kg\" , \"price\": 45, \"quantity\" : 550, \"Brand Name\":\"Parry's\", \"Product Description\": \"Seasoning Product\"},\n",
        "              102 : {\"name\": \"Salt 1 kg\" , \"price\": 22, \"quantity\" : 450, \"Brand Name\":\"Tata Salt\", \"Product Description\": \"Seasoning Product\"},\n",
        "              103 : {\"name\": \"Tamarind 250 g\" , \"price\": 25, \"quantity\" : 250, \"Brand Name\":\"Stylo Tamarind\", \"Product Description\": \"Seasoning Product\"},\n",
        "              104 : {\"name\": \"Black Pepper 100 g\" , \"price\": 95, \"quantity\" : 150, \"Brand Name\":\"Spice Forest\", \"Product Description\": \"Spice\"},\n",
        "              105 : {\"name\": \"Clove 100 g\" , \"price\": 86, \"quantity\" : 220, \"Brand Name\":\"Jk Clove\", \"Product Description\": \"Spice\"},\n",
        "              106 : {\"name\": \"Cardamom 100 g\" , \"price\": 100, \"quantity\" : 340, \"Brand Name\":\"Shree Elachi\", \"Product Description\": \"Spice\"},\n",
        "              107 : {\"name\": \"Rice 5 kg\" , \"price\": 300, \"quantity\" : 650, \"Brand Name\":\"India Gate\", \"Product Description\": \"Grains\"},\n",
        "              108 : {\"name\": \"Basmati Rice 1 kg\" , \"price\": 89, \"quantity\" : 350, \"Brand Name\":\"India Gate\", \"Product Description\": \"Grains\"},\n",
        "              109 : {\"name\": \"Green Gram 250 g\" , \"price\": 75, \"quantity\" : 261, \"Brand Name\":\"Tata  Sampann\", \"Product Description\": \"Grains\"},\n",
        "              110 : {\"name\": \"Black Gram 1 kg\" , \"price\": 118, \"quantity\" : 490, \"Brand Name\":\"Double Horse\", \"Product Description\": \"Grains\"},\n",
        "              111 : {\"name\": \"Wheat Flour 1 kg\" , \"price\": 51, \"quantity\" : 376, \"Brand Name\":\"Aashirvaad\", \"Product Description\": \"Flour\"},\n",
        "              112 : {\"name\": \"Rice Flour 1 kg\" , \"price\": 45, \"quantity\" : 106, \"Brand Name\":\"Nirapara\", \"Product Description\": \"Flour\"},\n",
        "              113 : {\"name\": \"sunflower Oil 1 L\" , \"price\": 165, \"quantity\" : 610, \"Brand Name\":\"Mr.Gold\", \"Product Description\": \"Oil\"},\n",
        "              114 : {\"name\": \"Groundnut Oil 1 L\" , \"price\": 190, \"quantity\" : 378, \"Brand Name\":\"Ganapathy\", \"Product Description\": \"Oil\"},\n",
        "              115 : {\"name\": \"Coconut Oil 1 L\" , \"price\": 324, \"quantity\" : 467, \"Brand Name\":\"Parachute\", \"Product Description\": \"Oil\"},\n",
        "              116 : {\"name\": \"Ghee 1 L\" , \"price\": 690, \"quantity\" : 168, \"Brand Name\":\"GRB\", \"Product Description\": \"Ghee\"},\n",
        "              117 : {\"name\": \"Dettol Soap\" , \"price\": 58, \"quantity\" : 783, \"Brand Name\":\"Dettol\", \"Product Description\": \"Soap\"},\n",
        "              118 : {\"name\": \"Medimix Soap\" , \"price\": 28, \"quantity\" : 673, \"Brand Name\":\"Medimix\", \"Product Description\": \"Soap\"},\n",
        "              119 : {\"name\": \"Rin Soap\" , \"price\": 16, \"quantity\" : 760, \"Brand Name\":\"Rin\", \"Product Description\": \"Soap\"},\n",
        "              120 : {\"name\": \"Surf Excel Soap\" , \"price\": 27, \"quantity\" : 463, \"Brand Name\":\"Surf Excel\", \"Product Description\": \"Soap\"},\n",
        "              121 : {\"name\": \"Vim Soap\" , \"price\": 10, \"quantity\" : 642, \"Brand Name\":\"Vim\", \"Product Description\": \"Soap\"},\n",
        "              122 : {\"name\": \"Colgate Paste\" , \"price\": 90, \"quantity\" : 679, \"Brand Name\":\"Colgate\", \"Product Description\": \"Toothpaste\"},\n",
        "              123 : {\"name\": \"Fogg Spray\" , \"price\": 130, \"quantity\" : 163, \"Brand Name\":\"Fogg\", \"Product Description\": \"Body Spray\"},\n",
        "              124 : {\"name\": \"Nivea Men Spray\" , \"price\": 139, \"quantity\" : 63, \"Brand Name\":\"Nivea\", \"Product Description\": \"Body Spray\"},\n",
        "              125 : {\"name\": \"Ponds Powder\" , \"price\": 120, \"quantity\" : 403, \"Brand Name\":\"Ponds\", \"Product Description\": \"Beauty Products\"},\n",
        "              126 : {\"name\": \"Nivea Musk Talc\" , \"price\": 125, \"quantity\" : 264, \"Brand Name\":\"Nivea\", \"Product Description\": \"Beauty Products\"},\n",
        "              127 : {\"name\": \"Sensodyne Paste\" , \"price\": 110, \"quantity\" : 679, \"Brand Name\":\"Sensodyne\", \"Product Description\": \"Toothpaste\"},\n",
        "              128 : {\"name\": \"Cashew Nut 250 g\" , \"price\": 310, \"quantity\" : 134, \"Brand Name\":\"Solimo\", \"Product Description\": \"Nuts and Dry Fruit\"},\n",
        "              129 : {\"name\": \"Raisins 250 g\" , \"price\": 120, \"quantity\" : 160, \"Brand Name\":\"Solimo\", \"Product Description\": \"Nuts and Dry Fruit\"},\n",
        "              130 : {\"name\": \"Almonds 250 g\" , \"price\": 315, \"quantity\" : 129, \"Brand Name\":\"Solimo\", \"Product Description\": \"Nuts and Dry Fruit\"},\n",
        "              131 : {\"name\": \"Iorn Box\" , \"price\": 475, \"quantity\" : 20, \"Brand Name\":\"Bajaj\", \"Product Description\": \"Electrical Items\"},\n",
        "              132 : {\"name\": \"Led Light\" , \"price\": 199, \"quantity\" : 50, \"Brand Name\":\"Wipro\", \"Product Description\": \"Electrical Items\"},\n",
        "              131 : {\"name\": \"Tube Light\" , \"price\": 229, \"quantity\" : 75, \"Brand Name\":\"Philips\", \"Product Description\": \"Electrical Items\"}\n",
        "           }\n",
        "\n",
        "           #Creating an Inventory"
      ],
      "execution_count": 141,
      "outputs": []
    },
    {
      "cell_type": "markdown",
      "metadata": {
        "id": "N8W0aDl0Zexd"
      },
      "source": [
        "#Importing json Library"
      ]
    },
    {
      "cell_type": "code",
      "metadata": {
        "id": "-RsZ9ErkYCLU"
      },
      "source": [
        "import json   #Importing the json library"
      ],
      "execution_count": 142,
      "outputs": []
    },
    {
      "cell_type": "code",
      "metadata": {
        "id": "OhG6LemLYG-B"
      },
      "source": [
        "js = json.dumps(inventory)   # Converts input dictionary into string and stores it in json_string"
      ],
      "execution_count": 143,
      "outputs": []
    },
    {
      "cell_type": "markdown",
      "metadata": {
        "id": "dsMskO-eZrN8"
      },
      "source": [
        "#Creating a json File"
      ]
    },
    {
      "cell_type": "code",
      "metadata": {
        "id": "1Gjf686aYRE5"
      },
      "source": [
        "fd = open(\"inventory.json\",'w')      #Creating an inventory json file\n",
        "\n",
        "fd.write(js)\n",
        "\n",
        "fd.close()"
      ],
      "execution_count": 144,
      "outputs": []
    },
    {
      "cell_type": "code",
      "metadata": {
        "id": "cs8Bjns2YciB"
      },
      "source": [
        "fd = open(\"inventory.json\",'r')\n",
        "\n",
        "txt = fd.read()\n",
        "\n",
        "fd.close()"
      ],
      "execution_count": 145,
      "outputs": []
    },
    {
      "cell_type": "code",
      "metadata": {
        "id": "1weLmJNGY-pw"
      },
      "source": [
        "record = json.loads(txt)        #Returns JSON object as a dictionary"
      ],
      "execution_count": 146,
      "outputs": []
    },
    {
      "cell_type": "markdown",
      "metadata": {
        "id": "48uQMD8trPqG"
      },
      "source": [
        "#AK'S Supermarket Billing and Updating our Inventory\n"
      ]
    },
    {
      "cell_type": "code",
      "metadata": {
        "id": "KeKjtHh2reuc"
      },
      "source": [
        "import time   #Importing the json library"
      ],
      "execution_count": 115,
      "outputs": []
    },
    {
      "cell_type": "code",
      "metadata": {
        "id": "0h_DVqYMj6LC"
      },
      "source": [
        "sales = []"
      ],
      "execution_count": 116,
      "outputs": []
    },
    {
      "cell_type": "code",
      "metadata": {
        "colab": {
          "base_uri": "https://localhost:8080/"
        },
        "id": "gBnGgRyicBlp",
        "outputId": "09acdc05-c6b2-4d59-f285-de4d76a38445"
      },
      "source": [
        "prod_id  = input(\"Enter the product_Id: \")    #Getting product id from user\n",
        "quant = int(input(\"Enter the quantity: \"))    #Getting quantity from user\n"
      ],
      "execution_count": 127,
      "outputs": [
        {
          "name": "stdout",
          "output_type": "stream",
          "text": [
            "Enter the product_Id: 108\n",
            "Enter the quantity: 2\n"
          ]
        }
      ]
    },
    {
      "cell_type": "code",
      "metadata": {
        "colab": {
          "base_uri": "https://localhost:8080/"
        },
        "id": "Bj8HbrC80G-d",
        "outputId": "b5488b89-4224-45bd-8df4-8e4dcd9b16fe"
      },
      "source": [
        "if (prod_id in record.keys()):       #Creating the bill for the sale done\n",
        "  print(\"***********************\")\n",
        "  print(\"AK Supermarket\")\n",
        "  print(time.ctime())                #Printing the Time of purchase\n",
        "  print(\"Product ID: \", prod_id)         #Printing the product id \n",
        "  print(\"Name: \", record[prod_id]['name'])    #Printing the Name of product\n",
        "  print(\"Brand Name: \", record[prod_id]['Brand Name'])    #Printing the Name of product\n",
        "  print(\"Price: \",record[prod_id]['price'])   #Printing the price of the product \n",
        "  print(\"Quant: \",quant)                 #Printing the quantiy purchased\n",
        "  print(\"------------------------\")\n",
        "  bill_amt =  quant * record[prod_id]['price']\n",
        "  print(\"Billing Amout: \",  bill_amt)      #Printing the bill amount\n",
        "  print(\"***********************\")\n",
        "  print(\"Thank You Vist Again\")\n",
        "\n",
        "  sales.append(bill_amt)         \n",
        "\n",
        "  record[prod_id]['quantity']-=quant      #Updating the inventory file\n",
        "  js = json.dumps(record)\n",
        "  fd = open('inventory.json','w')\n",
        "\n",
        "  fd.write(js)\n",
        "\n",
        "  fd.close()\n",
        "\n",
        "else:\n",
        "  print(\"No item exists\")\n",
        "\n",
        "\n"
      ],
      "execution_count": 128,
      "outputs": [
        {
          "output_type": "stream",
          "name": "stdout",
          "text": [
            "***********************\n",
            "AK Supermarket\n",
            "Mon Sep  6 14:48:13 2021\n",
            "Product ID:  108\n",
            "Name:  Basmati Rice 1 kg\n",
            "Brand Name:  India Gate\n",
            "Price:  89\n",
            "Quant:  2\n",
            "------------------------\n",
            "Billing Amout:  178\n",
            "***********************\n",
            "Thank You Vist Again\n"
          ]
        }
      ]
    },
    {
      "cell_type": "markdown",
      "metadata": {
        "id": "nPvDn64Zxyti"
      },
      "source": [
        "#Total sales"
      ]
    },
    {
      "cell_type": "code",
      "metadata": {
        "id": "ELtYso6QJstf",
        "colab": {
          "base_uri": "https://localhost:8080/"
        },
        "outputId": "bb624cbf-76c8-449a-8b69-c5382d3540c2"
      },
      "source": [
        "{'product_id' : prod_id, 'name' : record[prod_id]['name'], 'quantity' : quant , 'amount' : bill_amt}  \n"
      ],
      "execution_count": 129,
      "outputs": [
        {
          "output_type": "execute_result",
          "data": {
            "text/plain": [
              "{'amount': 178,\n",
              " 'name': 'Basmati Rice 1 kg',\n",
              " 'product_id': '108',\n",
              " 'quantity': 2}"
            ]
          },
          "metadata": {},
          "execution_count": 129
        }
      ]
    },
    {
      "cell_type": "code",
      "metadata": {
        "id": "Szoafq8RKt0W"
      },
      "source": [
        "sales_file = {str(len(sales_file.keys()) + 1):{'product_id':prod_id,'name':record[prod_id]['name'],'quantity':quant,'amount':bill_amt}}  \n"
      ],
      "execution_count": 130,
      "outputs": []
    },
    {
      "cell_type": "code",
      "metadata": {
        "id": "1VeNtulmLPw2"
      },
      "source": [
        "sale = json.dumps(sales_file)    \n",
        "\n",
        "j = json.dumps(sale)\n",
        "\n",
        "f = open(\"sales.json\",'w')   #Creating the sales file\n",
        "f.write(j)\n",
        "f.close()\n",
        "\n"
      ],
      "execution_count": 131,
      "outputs": []
    },
    {
      "cell_type": "markdown",
      "metadata": {
        "id": "vwVM_AwZFdKf"
      },
      "source": [
        "#Adding items to the inventory\n"
      ]
    },
    {
      "cell_type": "code",
      "metadata": {
        "id": "_N-eJaL10tPc",
        "colab": {
          "base_uri": "https://localhost:8080/"
        },
        "outputId": "59883476-69b2-4d15-dcc3-0c6de83ecdcd"
      },
      "source": [
        "product_id = str(len(record.keys()) + 100)   #Creating the product id \n",
        "name = str(input(\"Enter name:\"))       #Getting product Name from user \n",
        "pr = int(input(\"Enter price:\"))        #Getting product Price from user\n",
        "qn = int(input(\"Enter quantity:\"))      #Getting product quantity from user\n",
        "bn = str(input(\"Enter Brand name:\"))    #Getting product brand from user\n",
        "pd = str(input(\"Enter product description:\"))  #Getting product description from user\n",
        "record[product_id] = {'name': name, 'price': pr, 'quantity': qn, 'Brand Name':bn, \"Product Description\":pd}  \n",
        "\n",
        "j = json.dumps(record)\n",
        "\n",
        "fd = open(\"inventory.json\",'w')   #Updating the inventory file\n",
        "fd.write(j)\n",
        "fd.close()\n",
        "\n",
        "print(\"Items added to the Inventory\")"
      ],
      "execution_count": 147,
      "outputs": [
        {
          "output_type": "stream",
          "name": "stdout",
          "text": [
            "Enter name:Fan\n",
            "Enter price:264\n",
            "Enter quantity:42\n",
            "Enter Brand name:Havells\n",
            "Enter product description:Electrical Items\n",
            "Items added to the Inventory\n"
          ]
        }
      ]
    },
    {
      "cell_type": "markdown",
      "metadata": {
        "id": "yhPt_a53B7kO"
      },
      "source": [
        "#Updating items to inventory"
      ]
    },
    {
      "cell_type": "code",
      "metadata": {
        "colab": {
          "base_uri": "https://localhost:8080/"
        },
        "id": "PBpjohwUCDN-",
        "outputId": "7a24715f-4c48-4c75-abb1-14d54a35c584"
      },
      "source": [
        "prod_id = input(\"Enter product id:\")  #Getting product id from user"
      ],
      "execution_count": 134,
      "outputs": [
        {
          "name": "stdout",
          "output_type": "stream",
          "text": [
            "Enter product id:102\n"
          ]
        }
      ]
    },
    {
      "cell_type": "code",
      "metadata": {
        "colab": {
          "base_uri": "https://localhost:8080/"
        },
        "id": "pRwS5o1ecs9k",
        "outputId": "b945d8d8-e21d-452b-d5b4-d1524545e8cb"
      },
      "source": [
        "if (prod_id in record.keys()):     #Updating the product quantity\n",
        "  quan = int(input(\"enter the quantity of items:\"))   \n",
        "  record[prod_id]['quantity']+=quan\n",
        "  print(\"Item quantity updated\")\n",
        "else:\n",
        "  print(\"No item exists\")"
      ],
      "execution_count": 135,
      "outputs": [
        {
          "output_type": "stream",
          "name": "stdout",
          "text": [
            "enter the quantity of items:200\n",
            "Item quantity updated\n"
          ]
        }
      ]
    },
    {
      "cell_type": "code",
      "metadata": {
        "id": "vHy1ijDccxID"
      },
      "source": [
        "js = json.dumps(record)"
      ],
      "execution_count": 136,
      "outputs": []
    },
    {
      "cell_type": "code",
      "metadata": {
        "id": "cg9dgfFec0vB"
      },
      "source": [
        "fd = open('inventory.json','w')   #Updating the inventory file\n",
        "\n",
        "fd.write(js)\n",
        "\n",
        "fd.close()"
      ],
      "execution_count": 137,
      "outputs": []
    },
    {
      "cell_type": "markdown",
      "metadata": {
        "id": "-adC2X4eLhKe"
      },
      "source": [
        "#Total Sales Bill"
      ]
    },
    {
      "cell_type": "code",
      "metadata": {
        "colab": {
          "base_uri": "https://localhost:8080/"
        },
        "id": "a_SmiOE3yPkh",
        "outputId": "c641b43e-2cf7-4440-e36d-e0fdf7c68299"
      },
      "source": [
        "sales"
      ],
      "execution_count": 138,
      "outputs": [
        {
          "output_type": "execute_result",
          "data": {
            "text/plain": [
              "[675, 945, 178]"
            ]
          },
          "metadata": {},
          "execution_count": 138
        }
      ]
    },
    {
      "cell_type": "code",
      "metadata": {
        "colab": {
          "base_uri": "https://localhost:8080/"
        },
        "id": "kQDmqTGPstJU",
        "outputId": "c6756176-9fb0-4c5e-be6e-24a2fbb1e4ca"
      },
      "source": [
        "print(\"***********************\")    #Printing the total sales bill\n",
        "print(\"AK Supermarket\")\n",
        "print(time.ctime())\n",
        "print ('Total sales:  ', sum(sales))\n",
        "print(\"***********************\")"
      ],
      "execution_count": 139,
      "outputs": [
        {
          "output_type": "stream",
          "name": "stdout",
          "text": [
            "***********************\n",
            "AK Supermarket\n",
            "Mon Sep  6 14:50:02 2021\n",
            "Total sales:   1798\n",
            "***********************\n"
          ]
        }
      ]
    }
  ]
}